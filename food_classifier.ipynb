{
  "nbformat": 4,
  "nbformat_minor": 0,
  "metadata": {
    "colab": {
      "provenance": [],
      "gpuType": "T4"
    },
    "kernelspec": {
      "name": "python3",
      "display_name": "Python 3"
    },
    "language_info": {
      "name": "python"
    },
    "accelerator": "GPU"
  },
  "cells": [
    {
      "cell_type": "markdown",
      "source": [
        "# 1. Quick overview (what we'll do)\n",
        "\n",
        "1. Prepare a small dataset (structure explained) or use images you upload to Colab / Google Drive.\n",
        "2. Load data with `torchvision.datasets.ImageFolder` + transforms.\n",
        "3. Use transfer learning with a pretrained `resnet18` (fast and good for portfolio).\n",
        "4. Train, validate, save model, and run a few predictions.\n",
        "5. Add a simple confusion matrix and Grad-CAM suggestion for visual explainability (nice for portfolio).\n",
        "\n",
        "---\n",
        "\n",
        "# 2. Folder / dataset layout (simple)\n",
        "\n",
        "Create a local folder with this structure (or put it in Google Drive and mount it in Colab):\n",
        "\n",
        "```\n",
        "food_dataset/\n",
        "  train/\n",
        "    pizza/\n",
        "      pizza1.jpg\n",
        "      pizza2.jpg\n",
        "    salad/\n",
        "      salad1.jpg\n",
        "      ...\n",
        "  val/\n",
        "    pizza/\n",
        "      ...\n",
        "    salad/\n",
        "      ...\n",
        "  test/\n",
        "    pizza/\n",
        "      ...\n",
        "    salad/\n",
        "      ...\n",
        "```"
      ],
      "metadata": {
        "id": "UdmMrGLuMhYy"
      }
    },
    {
      "cell_type": "code",
      "execution_count": 1,
      "metadata": {
        "id": "5IoicO2CgTbw"
      },
      "outputs": [],
      "source": [
        "# Install / upgrade PyTorch if needed (Colab has torch preinstalled usually)\n",
        "!pip install -q torch torchvision"
      ]
    },
    {
      "cell_type": "markdown",
      "source": [
        "---\n",
        "\n",
        "# 4. Imports and device"
      ],
      "metadata": {
        "id": "K7Rs8eMbb_TD"
      }
    },
    {
      "cell_type": "code",
      "source": [
        "import os\n",
        "import time\n",
        "import copy\n",
        "from pathlib import Path\n",
        "\n",
        "import torch\n",
        "import torch.nn as nn\n",
        "import torch.optim as optim\n",
        "from torch.optim import lr_scheduler\n",
        "from torchvision import datasets, models, transforms\n",
        "from torch.utils.data import DataLoader\n",
        "\n",
        "import numpy as np\n",
        "import matplotlib.pyplot as plt\n",
        "from sklearn.metrics import confusion_matrix, classification_report\n",
        "import itertools"
      ],
      "metadata": {
        "id": "S7huYt9Db8w8"
      },
      "execution_count": 2,
      "outputs": []
    },
    {
      "cell_type": "code",
      "source": [
        "device = torch.device(\"cuda\" if torch.cuda.is_available() else \"cpu\")\n",
        "print(\"Using device:\", device)"
      ],
      "metadata": {
        "id": "8NpUXN1hcQcD",
        "colab": {
          "base_uri": "https://localhost:8080/"
        },
        "outputId": "7c36defc-ba80-4047-ed93-e58e59fb8d0f"
      },
      "execution_count": 3,
      "outputs": [
        {
          "output_type": "stream",
          "name": "stdout",
          "text": [
            "Using device: cuda\n"
          ]
        }
      ]
    },
    {
      "cell_type": "markdown",
      "source": [
        "---\n",
        "\n",
        "# 5. Data transforms and loaders"
      ],
      "metadata": {
        "id": "XMMq9C52mmmU"
      }
    },
    {
      "cell_type": "code",
      "source": [
        "# Set this to your dataset path\n",
        "dataset_path = \"/content/drive/MyDrive/food_dataset_split\"\n",
        "\n",
        "# Basic transforms: resize, center-crop, normalization (ImageNet stats)\n",
        "data_transforms = {\n",
        "    'train': transforms.Compose([\n",
        "        transforms.RandomResizedCrop(224),\n",
        "        transforms.RandomHorizontalFlip(),\n",
        "        transforms.ToTensor(),\n",
        "        transforms.Normalize([0.485, 0.456, 0.406],\n",
        "                             [0.229, 0.224, 0.225])\n",
        "    ]),\n",
        "    'val': transforms.Compose([\n",
        "        transforms.Resize(256),\n",
        "        transforms.CenterCrop(224),\n",
        "        transforms.ToTensor(),\n",
        "        transforms.Normalize([0.485, 0.456, 0.406],\n",
        "                             [0.229, 0.224, 0.225])\n",
        "    ]),\n",
        "    'test': transforms.Compose([\n",
        "        transforms.Resize(256),\n",
        "        transforms.CenterCrop(224),\n",
        "        transforms.ToTensor(),\n",
        "        transforms.Normalize([0.485, 0.456, 0.406],\n",
        "                             [0.229, 0.224, 0.225])\n",
        "    ]),\n",
        "}\n",
        "\n",
        "image_datasets = {\n",
        "    x: datasets.ImageFolder(os.path.join(dataset_path, x), data_transforms[x])\n",
        "    for x in ['train', 'val', 'test']\n",
        "}\n",
        "\n",
        "dataloaders = {\n",
        "    x: DataLoader(image_datasets[x], batch_size=32, shuffle=(x=='train'), num_workers=2)\n",
        "    for x in ['train', 'val', 'test']\n",
        "}\n",
        "\n",
        "dataset_sizes = {x: len(image_datasets[x]) for x in ['train', 'val', 'test']}\n",
        "class_names = image_datasets['train'].classes\n",
        "\n",
        "print(\"Classes:\", class_names)\n",
        "print(\"Sizes:\", dataset_sizes)"
      ],
      "metadata": {
        "colab": {
          "base_uri": "https://localhost:8080/"
        },
        "id": "4gtzTMGXmoa3",
        "outputId": "96798231-72ba-4e6a-e062-6fbdd330fb1a"
      },
      "execution_count": 19,
      "outputs": [
        {
          "output_type": "stream",
          "name": "stdout",
          "text": [
            "Classes: ['baklava', 'cheesecake', 'donuts', 'macarons', 'omelette', 'pizza', 'scallops', 'steak', 'tacos', 'waffles']\n",
            "Sizes: {'train': 8000, 'val': 1000, 'test': 1000}\n"
          ]
        }
      ]
    },
    {
      "cell_type": "markdown",
      "source": [
        "---\n",
        "\n",
        "# 6. Build model (transfer learning)\n",
        "\n",
        "We’ll use a pretrained ResNet18 and only fine-tune the final layer (fast, performs well)."
      ],
      "metadata": {
        "id": "bY6ElpFtwHNG"
      }
    },
    {
      "cell_type": "code",
      "source": [
        "num_classes = len(class_names)\n",
        "model = models.resnet18(pretrained=True)\n",
        "\n",
        "# Freeze all layers (optional). If you have enough images, you can unfreeze later.\n",
        "for param in model.parameters():\n",
        "    param.requires_grad = False\n",
        "\n",
        "# Replace the final fully connected layer\n",
        "in_features = model.fc.in_features\n",
        "model.fc = nn.Linear(in_features, num_classes)\n",
        "\n",
        "model = model.to(device)"
      ],
      "metadata": {
        "colab": {
          "base_uri": "https://localhost:8080/"
        },
        "id": "R_HkS4pnwMMu",
        "outputId": "eb11f796-c123-4dec-a496-39dc9ee41e89"
      },
      "execution_count": 20,
      "outputs": [
        {
          "output_type": "stream",
          "name": "stderr",
          "text": [
            "/usr/local/lib/python3.12/dist-packages/torchvision/models/_utils.py:208: UserWarning: The parameter 'pretrained' is deprecated since 0.13 and may be removed in the future, please use 'weights' instead.\n",
            "  warnings.warn(\n",
            "/usr/local/lib/python3.12/dist-packages/torchvision/models/_utils.py:223: UserWarning: Arguments other than a weight enum or `None` for 'weights' are deprecated since 0.13 and may be removed in the future. The current behavior is equivalent to passing `weights=ResNet18_Weights.IMAGENET1K_V1`. You can also use `weights=ResNet18_Weights.DEFAULT` to get the most up-to-date weights.\n",
            "  warnings.warn(msg)\n"
          ]
        }
      ]
    },
    {
      "cell_type": "markdown",
      "source": [
        "---\n",
        "\n",
        "# 7. Loss, optimizer, scheduler"
      ],
      "metadata": {
        "id": "_e2BKDRcwVzj"
      }
    },
    {
      "cell_type": "code",
      "source": [
        "criterion = nn.CrossEntropyLoss()\n",
        "\n",
        "# Only parameters of final layer are being optimized\n",
        "optimizer = optim.SGD(model.fc.parameters(), lr=0.01, momentum=0.9)\n",
        "\n",
        "# Optional learning rate scheduler\n",
        "exp_lr_scheduler = lr_scheduler.StepLR(optimizer, step_size=7, gamma=0.1)"
      ],
      "metadata": {
        "id": "aGsY-4gwwiVv"
      },
      "execution_count": 21,
      "outputs": []
    },
    {
      "cell_type": "markdown",
      "source": [
        "---\n",
        "\n",
        "# 8. Training loop (simple & clear)"
      ],
      "metadata": {
        "id": "4yLD9VuKwwMS"
      }
    },
    {
      "cell_type": "code",
      "source": [
        "def train_model(model, criterion, optimizer, scheduler, num_epochs=10):\n",
        "    since = time.time()\n",
        "    best_model_wts = copy.deepcopy(model.state_dict())\n",
        "    best_acc = 0.0\n",
        "\n",
        "    for epoch in range(num_epochs):\n",
        "        print(f'Epoch {epoch+1}/{num_epochs}')\n",
        "        print('-' * 10)\n",
        "\n",
        "        # Each epoch has a training and validation phase\n",
        "        for phase in ['train', 'val']:\n",
        "            if phase == 'train':\n",
        "                model.train()\n",
        "            else:\n",
        "                model.eval()\n",
        "\n",
        "            running_loss = 0.0\n",
        "            running_corrects = 0\n",
        "\n",
        "            # Iterate over data\n",
        "            for inputs, labels in dataloaders[phase]:\n",
        "                inputs = inputs.to(device)\n",
        "                labels = labels.to(device)\n",
        "\n",
        "                optimizer.zero_grad()\n",
        "\n",
        "                # forward\n",
        "                with torch.set_grad_enabled(phase == 'train'):\n",
        "                    outputs = model(inputs)\n",
        "                    _, preds = torch.max(outputs, 1)\n",
        "                    loss = criterion(outputs, labels)\n",
        "\n",
        "                    if phase == 'train':\n",
        "                        loss.backward()\n",
        "                        optimizer.step()\n",
        "\n",
        "                running_loss += loss.item() * inputs.size(0)\n",
        "                running_corrects += torch.sum(preds == labels.data)\n",
        "\n",
        "            if phase == 'train':\n",
        "                scheduler.step()\n",
        "\n",
        "            epoch_loss = running_loss / dataset_sizes[phase]\n",
        "            epoch_acc = running_corrects.double() / dataset_sizes[phase]\n",
        "\n",
        "            print(f'{phase} Loss: {epoch_loss:.4f} Acc: {epoch_acc:.4f}')\n",
        "\n",
        "            # deep copy the model\n",
        "            if phase == 'val' and epoch_acc > best_acc:\n",
        "                best_acc = epoch_acc\n",
        "                best_model_wts = copy.deepcopy(model.state_dict())\n",
        "\n",
        "        print()\n",
        "\n",
        "    time_elapsed = time.time() - since\n",
        "    print(f'Training complete in {time_elapsed // 60:.0f}m {time_elapsed % 60:.0f}s')\n",
        "    print(f'Best val Acc: {best_acc:.4f}')\n",
        "\n",
        "    # load best model weights\n",
        "    model.load_state_dict(best_model_wts)\n",
        "    return model\n",
        "\n",
        "# Run training (adjust epochs as needed)\n",
        "model = train_model(model, criterion, optimizer, exp_lr_scheduler, num_epochs=8)"
      ],
      "metadata": {
        "colab": {
          "base_uri": "https://localhost:8080/"
        },
        "id": "UCOzhu3Ewv3J",
        "outputId": "d4349298-41ae-42a5-8e5c-c9dd93ef98f8"
      },
      "execution_count": 22,
      "outputs": [
        {
          "output_type": "stream",
          "name": "stdout",
          "text": [
            "Epoch 1/8\n",
            "----------\n",
            "train Loss: 1.1808 Acc: 0.6136\n",
            "val Loss: 0.7363 Acc: 0.7570\n",
            "\n",
            "Epoch 2/8\n",
            "----------\n",
            "train Loss: 1.0389 Acc: 0.6775\n",
            "val Loss: 0.7234 Acc: 0.7660\n",
            "\n",
            "Epoch 3/8\n",
            "----------\n",
            "train Loss: 0.9543 Acc: 0.6991\n",
            "val Loss: 0.8218 Acc: 0.7600\n",
            "\n",
            "Epoch 4/8\n",
            "----------\n",
            "train Loss: 0.9107 Acc: 0.7145\n",
            "val Loss: 0.6300 Acc: 0.7940\n",
            "\n",
            "Epoch 5/8\n",
            "----------\n",
            "train Loss: 0.9307 Acc: 0.7111\n",
            "val Loss: 0.7011 Acc: 0.7760\n",
            "\n",
            "Epoch 6/8\n",
            "----------\n",
            "train Loss: 0.9537 Acc: 0.7084\n",
            "val Loss: 0.6875 Acc: 0.7790\n",
            "\n",
            "Epoch 7/8\n",
            "----------\n",
            "train Loss: 0.9432 Acc: 0.7131\n",
            "val Loss: 0.6942 Acc: 0.8010\n",
            "\n",
            "Epoch 8/8\n",
            "----------\n",
            "train Loss: 0.7324 Acc: 0.7684\n",
            "val Loss: 0.5757 Acc: 0.8130\n",
            "\n",
            "Training complete in 8m 23s\n",
            "Best val Acc: 0.8130\n"
          ]
        }
      ]
    },
    {
      "cell_type": "markdown",
      "source": [
        "---\n",
        "\n",
        "# 9. Save the model"
      ],
      "metadata": {
        "id": "72I9ujMYxy25"
      }
    },
    {
      "cell_type": "code",
      "source": [
        "torch.save({\n",
        "    'model_state_dict': model.state_dict(),\n",
        "    'class_names': class_names\n",
        "}, '/content/drive/MyDrive/food_resnet18.pth')"
      ],
      "metadata": {
        "id": "SGNuC5FVx1GV"
      },
      "execution_count": 23,
      "outputs": []
    },
    {
      "cell_type": "markdown",
      "source": [
        "---\n",
        "\n",
        "# 10. Evaluate on test set & show classification report"
      ],
      "metadata": {
        "id": "zBUVqjE2yXIi"
      }
    },
    {
      "cell_type": "code",
      "source": [
        "# Put model in eval\n",
        "model.eval()\n",
        "all_preds = []\n",
        "all_labels = []\n",
        "\n",
        "with torch.no_grad():\n",
        "    for inputs, labels in dataloaders['test']:\n",
        "        inputs = inputs.to(device)\n",
        "        labels = labels.to(device)\n",
        "        outputs = model(inputs)\n",
        "        _, preds = torch.max(outputs, 1)\n",
        "        all_preds.extend(preds.cpu().numpy())\n",
        "        all_labels.extend(labels.cpu().numpy())\n",
        "\n",
        "# Classification report\n",
        "print(classification_report(all_labels, all_preds, target_names=class_names))"
      ],
      "metadata": {
        "colab": {
          "base_uri": "https://localhost:8080/"
        },
        "id": "c0h3U3MJyaTK",
        "outputId": "981e7e7c-17f9-496c-8c10-d272c3ce4bc2"
      },
      "execution_count": 24,
      "outputs": [
        {
          "output_type": "stream",
          "name": "stdout",
          "text": [
            "              precision    recall  f1-score   support\n",
            "\n",
            "     baklava       0.82      0.70      0.76       100\n",
            "  cheesecake       0.75      0.75      0.75       100\n",
            "      donuts       0.77      0.76      0.76       100\n",
            "    macarons       0.88      0.92      0.90       100\n",
            "    omelette       0.82      0.82      0.82       100\n",
            "       pizza       0.84      0.87      0.86       100\n",
            "    scallops       0.71      0.76      0.73       100\n",
            "       steak       0.74      0.75      0.75       100\n",
            "       tacos       0.84      0.81      0.82       100\n",
            "     waffles       0.75      0.78      0.76       100\n",
            "\n",
            "    accuracy                           0.79      1000\n",
            "   macro avg       0.79      0.79      0.79      1000\n",
            "weighted avg       0.79      0.79      0.79      1000\n",
            "\n"
          ]
        }
      ]
    },
    {
      "cell_type": "markdown",
      "source": [
        "Optional: confusion matrix visualization:"
      ],
      "metadata": {
        "id": "Jcmiw0kAyliA"
      }
    },
    {
      "cell_type": "code",
      "source": [
        "cm = confusion_matrix(all_labels, all_preds)\n",
        "plt.figure(figsize=(8, 8))\n",
        "plt.imshow(cm, interpolation='nearest')\n",
        "plt.title('Confusion Matrix')\n",
        "plt.colorbar()\n",
        "tick_marks = np.arange(len(class_names))\n",
        "plt.xticks(tick_marks, class_names, rotation=45)\n",
        "plt.yticks(tick_marks, class_names)\n",
        "plt.ylabel('True label')\n",
        "plt.xlabel('Predicted label')\n",
        "plt.show()"
      ],
      "metadata": {
        "colab": {
          "base_uri": "https://localhost:8080/",
          "height": 689
        },
        "id": "fE_Yeq-Jymoj",
        "outputId": "d7cad85a-0b67-4154-d5f0-8d42287f534e"
      },
      "execution_count": 25,
      "outputs": [
        {
          "output_type": "display_data",
          "data": {
            "text/plain": [
              "<Figure size 800x800 with 2 Axes>"
            ],
            "image/png": "[encoded data removed]"
          },
          "metadata": {}
        }
      ]
    },
    {
      "cell_type": "markdown",
      "source": [
        "---\n",
        "\n",
        "# 11. Single-image inference (demo function)"
      ],
      "metadata": {
        "id": "1NbDXY6Dy_rE"
      }
    },
    {
      "cell_type": "code",
      "source": [
        "from PIL import Image\n",
        "\n",
        "def predict_image(image_path, model, class_names, transform):\n",
        "    model.eval()\n",
        "    img = Image.open(image_path).convert('RGB')\n",
        "    inp = transform(img).unsqueeze(0).to(device)\n",
        "    with torch.no_grad():\n",
        "        out = model(inp)\n",
        "        probs = torch.nn.functional.softmax(out, dim=1)\n",
        "        conf, pred = torch.max(probs, 1)\n",
        "    return class_names[pred.item()], conf.item()\n",
        "\n",
        "# Example:\n",
        "label, confidence = predict_image('/content/baklava_test.jpg', model, class_names, data_transforms['test'])\n",
        "print(label, confidence)"
      ],
      "metadata": {
        "colab": {
          "base_uri": "https://localhost:8080/"
        },
        "id": "cjTjb-Y1zDW-",
        "outputId": "87c409fa-d741-493c-f06e-d54461624321"
      },
      "execution_count": 26,
      "outputs": [
        {
          "output_type": "stream",
          "name": "stdout",
          "text": [
            "baklava 0.7926720976829529\n"
          ]
        }
      ]
    }
  ]
}